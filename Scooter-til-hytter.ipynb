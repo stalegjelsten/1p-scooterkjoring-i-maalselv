{
 "cells": [
  {
   "cell_type": "markdown",
   "id": "pressed-teens",
   "metadata": {},
   "source": [
    "# Hent ut informasjon fra saken: Flertall av kommuner vil liberalisere scooterkjøring\n",
    "\n",
    "Les saken på [NRK.no om scooterkjøring til hytter](https://www.nrk.no/sorlandet/stort-flertall-av-kommunene-vil-liberalisere-scooter-reglene-1.15124277)."
   ]
  },
  {
   "cell_type": "markdown",
   "id": "universal-source",
   "metadata": {},
   "source": [
    "### Hva er saken?\n",
    "*Hva handler saken om? Gi en kort oppsummering i neste celle ↓.*\n"
   ]
  },
  {
   "cell_type": "markdown",
   "id": "micro-douglas",
   "metadata": {},
   "source": [
    "#### Svar\n"
   ]
  },
  {
   "cell_type": "markdown",
   "id": "unlikely-circumstances",
   "metadata": {},
   "source": [
    "### Hvem har skrevet saken?\n",
    "*Finn ut hvem som har skrevet saken. Kan vi stole på at det som står her er riktig? Vurder kilden etter [TONE-strategien](https://ndla.no/nb/subject:14/topic:1:185701/resource:1:169741?filters=urn:filter:94dfe81f-9e11-45fc-ab5a-fba63784d48e). Skriv svar i neste celle ↓.*\n"
   ]
  },
  {
   "cell_type": "markdown",
   "id": "together-vintage",
   "metadata": {},
   "source": [
    "#### Svar\n"
   ]
  },
  {
   "cell_type": "markdown",
   "id": "sweet-kitchen",
   "metadata": {},
   "source": [
    "### Hvilke tall finner du i saken?\n",
    "*Hvilke tall kan du hente ut fra saken? Gi tall til variablene i python-cellen under.*\n"
   ]
  },
  {
   "cell_type": "code",
   "execution_count": null,
   "id": "cloudy-radical",
   "metadata": {},
   "outputs": [],
   "source": [
    "grenseverdi_km_til_hytte = \n",
    "antall_kommuner_som_har_sendt_svar =\n",
    "antall_kommuner_som_ønsker_regelendring =\n",
    "antall_kommuner_som_ikke_ønsker_regelendring = "
   ]
  },
  {
   "cell_type": "markdown",
   "id": "norman-bowling",
   "metadata": {},
   "source": [
    "### Prosent for og imot\n",
    "*Hvor mange prosent av kommunene ønsker regelendring? Hvor mange ønsker ingen regelendring? Skriv pythonkode som regner dette ut for deg. Bruk variablene fra oppgaven over. (Eksempel ligger litt lenger nede på siden)*"
   ]
  },
  {
   "cell_type": "code",
   "execution_count": null,
   "id": "outside-loading",
   "metadata": {},
   "outputs": [],
   "source": [
    "###################################################\n",
    "#                  ↓ ditt svar ↓                  #\n",
    "###################################################\n"
   ]
  },
  {
   "cell_type": "code",
   "execution_count": 19,
   "id": "amended-indian",
   "metadata": {},
   "outputs": [
    {
     "name": "stdout",
     "output_type": "stream",
     "text": [
      "78.57 % av elevene i 1P har mac. Det er 21.43 % som bruker Windows.\n"
     ]
    }
   ],
   "source": [
    "###################################################\n",
    "# Eksempel på hvordan regne ut prosenter i python #\n",
    "###################################################\n",
    "\n",
    "# 11 av 14 elever i 1P bruker en Mac som datamaskin på skolen. \n",
    "# Hvor mange prosent tilsvarer dette? Og hvor mange prosent bruker Windows?\n",
    "\n",
    "\n",
    "\n",
    "###################################################\n",
    "#               ↓ LØSNINGSFORSLAG ↓               #\n",
    "###################################################\n",
    "\n",
    "totalt_antall_elever = 14\n",
    "antall_elever_med_mac = 11\n",
    "\n",
    "\n",
    "# for å finne prosenten kan vi ta(delen av tallet)/(hele tallet) \n",
    "# og multiplisere med 100 %\n",
    "\n",
    "prosent_mac = (antall_elever_med_mac / totalt_antall_elever) * 100\n",
    "prosent_windows = 100 - prosent_mac\n",
    "\n",
    "print(f\"{prosent_mac:.2f} % av elevene i 1P har mac. Det er {prosent_windows:.2f} % som bruker Windows.\")"
   ]
  },
  {
   "cell_type": "markdown",
   "id": "funded-possible",
   "metadata": {},
   "source": [
    "### Eksempler: Sektordiagrammer i python\n",
    "\n",
    "Du kan lage sektordiagrammer i python ved å bruke pakken `matplotlib.pyplot`. Nedenfor har jeg laget et eksempel som viser hvordan du kan lage et sektordiagram som viser fordelingen av høyrehendte, venstrehendte og dem som like gjerne bruker begge hender. Jeg har brukt tall fra [Wikipedia](https://no.wikipedia.org/wiki/Ambidekstri) som tyder på at omtrent 90 % er høyrehendte, 9 % er venstrehendte og 1 % kan bruke begge hender.\n",
    "\n",
    "#### Forklaring av koden\n",
    "I første linje importerer vi pakken `matplotlib.pyplot` og gir den kallenavnet `plt` slik at det skal bli enklere å skrive navnet på den senere.\n",
    "\n",
    "Jeg oppretter deretter listen `merkelapper` som inneholder informasjon om hva de ulike sektorene i diagrammet representerer.\n",
    "\n",
    "Deretter lager jeg en liste `andeler` som inneholder tallene for hvor stor andel som henholdsvis høyrehendt, venstrehendt og ambidekster. Pass på at det første elementet i lista med andeler tilsvarer det første elementet i lista med merkelapper. Siden jeg har høyrehendt først i lista mi over merkelapper er det viktig at `andeler`-lista begynner 90 som er andelen høyrehendte.\n",
    "\n",
    "`plt.pie()` lager et sektordiagram av den listen du gir til funksjonen. I mitt tilfelle har jeg gitt listen `andeler`. I tillegg kan jeg gi en liste med merkelapper som hører til andelene ved å bruke `labels=ListeMedAndeler`, i mitt tilfelle `labels=merkelapper`. \n",
    "\n",
    "Hvis jeg i tillegg ønsker at sektordiagrammet skal vise hvor mange prosent de ulike sektorene tilsvarer så kan jeg legge til tilvalget `autopct=\"%.1f%%\"`. Se cellen litt lenger ned."
   ]
  },
  {
   "cell_type": "code",
   "execution_count": 8,
   "id": "elder-dutch",
   "metadata": {},
   "outputs": [
    {
     "data": {
      "text/plain": [
       "([<matplotlib.patches.Wedge at 0x7fb5961740d0>,\n",
       "  <matplotlib.patches.Wedge at 0x7fb5961745b0>,\n",
       "  <matplotlib.patches.Wedge at 0x7fb596174a30>],\n",
       " [Text(-1.0461621424642782, 0.33991877217145816, 'Høyrehendt'),\n",
       "  Text(1.034968794217727, -0.372611855682967, 'Venstrehendt'),\n",
       "  Text(1.0994572119784658, -0.03455197575449488, 'Ambidekster/kapphendt')])"
      ]
     },
     "execution_count": 8,
     "metadata": {},
     "output_type": "execute_result"
    },
    {
     "data": {
      "image/png": "[encoded data removed]",
      "text/plain": [
       "<Figure size 432x288 with 1 Axes>"
      ]
     },
     "metadata": {},
     "output_type": "display_data"
    }
   ],
   "source": [
    "import matplotlib.pyplot as plt\n",
    "merkelapper = [\"Høyrehendt\" , \"Venstrehendt\", \"Ambidekster/kapphendt\"]\n",
    "andeler = [90, 9, 1]\n",
    "plt.pie(andeler, labels=merkelapper)"
   ]
  },
  {
   "cell_type": "code",
   "execution_count": 13,
   "id": "practical-sender",
   "metadata": {},
   "outputs": [
    {
     "data": {
      "text/plain": [
       "([<matplotlib.patches.Wedge at 0x7fb5960c6820>,\n",
       "  <matplotlib.patches.Wedge at 0x7fb596014940>,\n",
       "  <matplotlib.patches.Wedge at 0x7fb59618bc10>],\n",
       " [Text(-1.0461621424642782, 0.33991877217145816, 'Høyrehendt'),\n",
       "  Text(1.034968794217727, -0.372611855682967, 'Venstrehendt'),\n",
       "  Text(1.0994572119784658, -0.03455197575449488, 'Ambidekster/kapphendt')],\n",
       " [Text(-0.5706338958896062, 0.18541023936624987, '90.0%'),\n",
       "  Text(0.5645284332096693, -0.20324283037252744, '9.0%'),\n",
       "  Text(0.5997039338064358, -0.018846532229724478, '1.0%')])"
      ]
     },
     "execution_count": 13,
     "metadata": {},
     "output_type": "execute_result"
    },
    {
     "data": {
      "image/png": "[encoded data removed]",
      "text/plain": [
       "<Figure size 432x288 with 1 Axes>"
      ]
     },
     "metadata": {},
     "output_type": "display_data"
    }
   ],
   "source": [
    "plt.pie(andeler, labels=merkelapper, autopct=\"%.1f%%\")"
   ]
  },
  {
   "cell_type": "markdown",
   "id": "animal-malaysia",
   "metadata": {},
   "source": [
    "### Lag sektordiagram over for og imot\n",
    "*Lag et sektordiagram som viser fordelingen av kommuner for og imot regelendringer for scooterkjøring til hytta. Ta gjerne med andelen som ikke har svart direkte på spørsmålet også. Skriv koden din i neste celle.*"
   ]
  },
  {
   "cell_type": "code",
   "execution_count": null,
   "id": "aquatic-wealth",
   "metadata": {},
   "outputs": [],
   "source": [
    "###################################################\n",
    "#                  ↓ ditt svar ↓                  #\n",
    "###################################################\n"
   ]
  },
  {
   "cell_type": "markdown",
   "id": "arbitrary-lucas",
   "metadata": {},
   "source": [
    "### Hva er en høring?\n",
    "Nyhetssaken du leste handler om en høring. Hva er en høring? Vi har 356 kommuner i Norge, hvorfor har ikke alle disse svart på høringen? Svar i neste celle."
   ]
  },
  {
   "cell_type": "markdown",
   "id": "treated-avenue",
   "metadata": {},
   "source": [
    "#### Svar\n"
   ]
  },
  {
   "cell_type": "markdown",
   "id": "associate-spain",
   "metadata": {},
   "source": [
    "# Hvilke hytter kan bruke scooter i dag?\n",
    "Jeg har sett på et [mindre hytteområde nordøst for Takvatnet](https://www.norgeskart.no/#!?project=norgeskart&layers=1002&zoom=9&lat=7675666.50&lon=668440.74&sok=Trolldalen&markerLat=7675666.496412521&markerLon=668440.7404211427&panel=searchOptionsPanel&drawing=ehghAngBLmAVnofmN_bR). Se kartet under. Jeg har markert bygninger med blå trekant og målt avstanden fra mange av bygningene til nærmeste brøytede vei. Deretter har jeg lagt inn data om hyttene i en csv-fil kalt `hytter-ved-andorvatnet.csv`. Disse dataene er *ikke* ekte, det er bare noe jeg har funnet på, siden jeg ikke har tilgang til alle data om disse bygningene uten å be kommunen om innsyn. I tillegg er dette kun 18 hytter av svært mange i Indre Troms.\n",
    "\n",
    "![Hytter ved andorvatnet](hyttekart-andorvatnet.png)"
   ]
  },
  {
   "cell_type": "code",
   "execution_count": 46,
   "id": "aboriginal-secretary",
   "metadata": {},
   "outputs": [],
   "source": [
    "###################################################\n",
    "#     Innlasting av data om hytter i python       #\n",
    "###################################################\n",
    "import numpy as np\n",
    "import pandas as pd\n",
    "df = pd.read_csv(\"hytter-ved-andorvatnet.csv\", sep=\";\", index_col=\"hytte_nr\")"
   ]
  },
  {
   "cell_type": "markdown",
   "id": "advance-productivity",
   "metadata": {},
   "source": [
    "Vi har nå lastet inn informasjonen om hyttene fra filen `hytter-ved-andorvatnet.csv` og lagret informasjonen som en [pandas dataframe](https://pandas.pydata.org/pandas-docs/stable/user_guide/dsintro.html). En dataframe er egentlig bare en stor tabell, og pandas-pakken inneholder mange nyttige funksjoner for å manipulere og analysere dataene.\n",
    "\n",
    "Vi kalte dataframen vår for `df`. Vi kan nå kjøre funksjoner på dataene i `df` ved å skrive `df.FUNKSJONSNAVN`. F.eks finnes det en funksjon som heter `head()`. Prøv `df.head()` og se hva som skjer i cellen under."
   ]
  },
  {
   "cell_type": "code",
   "execution_count": 82,
   "id": "exterior-northeast",
   "metadata": {},
   "outputs": [
    {
     "data": {
      "text/html": [
       "<div>\n",
       "<style scoped>\n",
       "    .dataframe tbody tr th:only-of-type {\n",
       "        vertical-align: middle;\n",
       "    }\n",
       "\n",
       "    .dataframe tbody tr th {\n",
       "        vertical-align: top;\n",
       "    }\n",
       "\n",
       "    .dataframe thead th {\n",
       "        text-align: right;\n",
       "    }\n",
       "</style>\n",
       "<table border=\"1\" class=\"dataframe\">\n",
       "  <thead>\n",
       "    <tr style=\"text-align: right;\">\n",
       "      <th></th>\n",
       "      <th>avstand_m</th>\n",
       "      <th>type</th>\n",
       "      <th>strøm</th>\n",
       "    </tr>\n",
       "    <tr>\n",
       "      <th>hytte_nr</th>\n",
       "      <th></th>\n",
       "      <th></th>\n",
       "      <th></th>\n",
       "    </tr>\n",
       "  </thead>\n",
       "  <tbody>\n",
       "    <tr>\n",
       "      <th>1</th>\n",
       "      <td>1025</td>\n",
       "      <td>gamme</td>\n",
       "      <td>0</td>\n",
       "    </tr>\n",
       "    <tr>\n",
       "      <th>2</th>\n",
       "      <td>980</td>\n",
       "      <td>hytte</td>\n",
       "      <td>0</td>\n",
       "    </tr>\n",
       "    <tr>\n",
       "      <th>3</th>\n",
       "      <td>1080</td>\n",
       "      <td>hytte</td>\n",
       "      <td>1</td>\n",
       "    </tr>\n",
       "    <tr>\n",
       "      <th>4</th>\n",
       "      <td>520</td>\n",
       "      <td>gamme</td>\n",
       "      <td>0</td>\n",
       "    </tr>\n",
       "    <tr>\n",
       "      <th>5</th>\n",
       "      <td>970</td>\n",
       "      <td>hytte</td>\n",
       "      <td>0</td>\n",
       "    </tr>\n",
       "  </tbody>\n",
       "</table>\n",
       "</div>"
      ],
      "text/plain": [
       "          avstand_m   type  strøm\n",
       "hytte_nr                         \n",
       "1              1025  gamme      0\n",
       "2               980  hytte      0\n",
       "3              1080  hytte      1\n",
       "4               520  gamme      0\n",
       "5               970  hytte      0"
      ]
     },
     "execution_count": 82,
     "metadata": {},
     "output_type": "execute_result"
    }
   ],
   "source": [
    "###################################################\n",
    "#                  ↓ ditt svar ↓                  #\n",
    "###################################################\n",
    "\n",
    "df.head()"
   ]
  },
  {
   "cell_type": "markdown",
   "id": "fatal-recorder",
   "metadata": {},
   "source": [
    "Vi kan også få pandas/python til å gi oss litt statistikk om de ulike kolonnene i dataframen vår. Bruk funksjonen `describe()` **på dataframen** for å få ut statistikk. Hvor langt er det i gjennomsnitt fra hyttene til veien? Hvor mange prosent av hyttene har strøm? (tallet 1 betyr at den har strøm, tallet 0 betyr at den ikke har strøm)."
   ]
  },
  {
   "cell_type": "code",
   "execution_count": 79,
   "id": "thick-brighton",
   "metadata": {},
   "outputs": [
    {
     "data": {
      "text/html": [
       "<div>\n",
       "<style scoped>\n",
       "    .dataframe tbody tr th:only-of-type {\n",
       "        vertical-align: middle;\n",
       "    }\n",
       "\n",
       "    .dataframe tbody tr th {\n",
       "        vertical-align: top;\n",
       "    }\n",
       "\n",
       "    .dataframe thead th {\n",
       "        text-align: right;\n",
       "    }\n",
       "</style>\n",
       "<table border=\"1\" class=\"dataframe\">\n",
       "  <thead>\n",
       "    <tr style=\"text-align: right;\">\n",
       "      <th></th>\n",
       "      <th>avstand_m</th>\n",
       "      <th>strøm</th>\n",
       "    </tr>\n",
       "  </thead>\n",
       "  <tbody>\n",
       "    <tr>\n",
       "      <th>count</th>\n",
       "      <td>18.000000</td>\n",
       "      <td>18.000000</td>\n",
       "    </tr>\n",
       "    <tr>\n",
       "      <th>mean</th>\n",
       "      <td>1882.500000</td>\n",
       "      <td>0.500000</td>\n",
       "    </tr>\n",
       "    <tr>\n",
       "      <th>std</th>\n",
       "      <td>1087.856189</td>\n",
       "      <td>0.514496</td>\n",
       "    </tr>\n",
       "    <tr>\n",
       "      <th>min</th>\n",
       "      <td>20.000000</td>\n",
       "      <td>0.000000</td>\n",
       "    </tr>\n",
       "    <tr>\n",
       "      <th>25%</th>\n",
       "      <td>990.750000</td>\n",
       "      <td>0.000000</td>\n",
       "    </tr>\n",
       "    <tr>\n",
       "      <th>50%</th>\n",
       "      <td>2011.000000</td>\n",
       "      <td>0.500000</td>\n",
       "    </tr>\n",
       "    <tr>\n",
       "      <th>75%</th>\n",
       "      <td>2844.250000</td>\n",
       "      <td>1.000000</td>\n",
       "    </tr>\n",
       "    <tr>\n",
       "      <th>max</th>\n",
       "      <td>3432.000000</td>\n",
       "      <td>1.000000</td>\n",
       "    </tr>\n",
       "  </tbody>\n",
       "</table>\n",
       "</div>"
      ],
      "text/plain": [
       "         avstand_m      strøm\n",
       "count    18.000000  18.000000\n",
       "mean   1882.500000   0.500000\n",
       "std    1087.856189   0.514496\n",
       "min      20.000000   0.000000\n",
       "25%     990.750000   0.000000\n",
       "50%    2011.000000   0.500000\n",
       "75%    2844.250000   1.000000\n",
       "max    3432.000000   1.000000"
      ]
     },
     "execution_count": 79,
     "metadata": {},
     "output_type": "execute_result"
    }
   ],
   "source": [
    "###################################################\n",
    "#                  ↓ ditt svar ↓                  #\n",
    "###################################################\n",
    "\n",
    "df.describe()"
   ]
  },
  {
   "cell_type": "markdown",
   "id": "distinct-czech",
   "metadata": {},
   "source": [
    "## Oppgave: hvor mange hytter har lov til å bruke scooter?\n",
    "Du skal nå bruke python til å telle hvor mange hytter som ligger mer enn 2500 m fra vei. Ekstra utfordring: Klarer du i tillegg å lage en liste som inneholder hvilke hytter som faktisk ligger mer enn 2500 unna vei?\n",
    "\n",
    "Nedenfor har jeg laget to eksempler. Det første eksempelet lager en tilfeldig liste med 200 terningkast og teller hvor mange seksere det er blant de 200 kastene. Kjør den gjerne flere ganger, da ser du at antallet seksere foranderer seg for hver kjøring (det er tilfeldig). Legg merke til hvordan jeg lager \"teller\"-variabel som inneholder antallet seksere jeg har telt fram til nå.\n",
    "\n",
    "Det andre eksempelet viser hvordan man kan kjøre en `for`-løkke over en dataframe. En for-løkke kan egentlig kun kjøres over lister eller andre tellbare objekter, siden dataframen er en tabell så \"gjør vi den om\" til en liste ved å bruke `df.index` istedenfor bare `df`.\n",
    "\n",
    "Husk at vi kan bruke `if` setninger til å sette betingelser og sammenligne størrelser ved å bruke bruke disse operatorene:\n",
    "\n",
    "| Eksempel   | Betydning                   |\n",
    "|------------|-----------------------------|\n",
    "| x == y     | x er lik y                  |\n",
    "| x != y     | x er ikke lik y             |\n",
    "| x > y      | x er større enn y           |\n",
    "| x < y      | x er mindre enn y           |\n",
    "| x >= y     | x er større enn eller lik y |\n",
    "| x <= y     | x er mindre enn eller lik y |\n",
    "| x is y     | x er lik y                  |\n",
    "| x is not y | x er ikke lik y             |"
   ]
  },
  {
   "cell_type": "code",
   "execution_count": 89,
   "id": "everyday-scientist",
   "metadata": {
    "tags": []
   },
   "outputs": [
    {
     "name": "stdout",
     "output_type": "stream",
     "text": [
      "Det er 28 seksere blant de 200 terningene.\n"
     ]
    }
   ],
   "source": [
    "###################################################\n",
    "#   Telling ved hjelp av for-løkker over lister   #\n",
    "###################################################\n",
    "\n",
    "# Vi simulerer 200 terningkast og lager en liste med 200 elementer hvor hvert\n",
    "# element er et tall mellom 1 og 6 som tilsvarer terningkastet. Vi bruker\n",
    "# funksjonen random.randint fra pakken numpy (np) for å simulere terningkastene\n",
    "# Legg merke til at vi skriver 1,7 for å indikere at vi skal ha terningkast fra\n",
    "# og 1, til (men ikke inkludert) 7.\n",
    "\n",
    "liste_med_terningkast = np.random.randint(1,7, size=200)\n",
    "\n",
    "\n",
    "\n",
    "# I dette eksempelet skal vi telle antall sekser i lista ved å bruke en for-\n",
    "# løkke. \n",
    "# Vi begynner med å lage en variabel antall_seksere = 0 som holder tellinga\n",
    "# på hvor mange seksere vi har talt fram til nå.\n",
    "# For hvert element i lista skal vi sjekke om det er en sekser. Hvis\n",
    "# det er en sekser så skal vi legge til 1 til antall_seksere-variabelen\n",
    "\n",
    "antall_seksere = 0\n",
    "for terning in liste_med_terningkast:\n",
    "    if terning == 6:\n",
    "        antall_seksere = antall_seksere + 1\n",
    "\n",
    "print(f\"Det er {antall_seksere} seksere blant de {len(liste_med_terningkast)} terningene.\")    "
   ]
  },
  {
   "cell_type": "code",
   "execution_count": 96,
   "id": "executed-leave",
   "metadata": {},
   "outputs": [
    {
     "name": "stdout",
     "output_type": "stream",
     "text": [
      " 1   1025\n",
      " 2    980\n",
      " 3   1080\n",
      " 4    520\n",
      " 5    970\n",
      " 6    904\n",
      " 7   1023\n",
      " 8     20\n",
      " 9   2011\n",
      "10   2011\n",
      "11   2040\n",
      "12   3432\n",
      "13   3337\n",
      "14   3195\n",
      "15   3123\n",
      "16   2698\n",
      "17   2623\n",
      "18   2893\n"
     ]
    }
   ],
   "source": [
    "###################################################\n",
    "#         Eksempel: For-løkke over dataframe      #\n",
    "###################################################\n",
    "# Denne for-løkka går gjennom hvert element i df.index. df.index er\n",
    "# som et stikkordregister som holder orden på alle radene i dataframen\n",
    "# vår. Prøv gjerne kommandoen print(df.index) så skjønner du kanskje\n",
    "# bedre hva den inneholder. :)\n",
    "#\n",
    "# I for-løkka blir variabelen hytte_nr tilordnet verdiene i df.index,\n",
    "# altså er hytte_nr 0 den første gangen i løkka, deretter er den 1,\n",
    "# osv, osv, helt fram til og med 17.\n",
    "\n",
    "for hytte_nr in df.index:\n",
    "    # den neste linja skriver ut indexen og avstanden til vei for \n",
    "    # det nåværende hytte_nr. Legg merke til at vi bruker df[kolonne][rad],\n",
    "    # altså henter vi ut verdien i dataframen fra kolonne \"avstand_m\" og \n",
    "    # raden som tilsvarer hytte_nr.\n",
    "    print(f\"{hytte_nr:2}   {df['avstand_m'][hytte_nr]:4}\")\n",
    "    \n",
    "    # Legg gjerne merke til 2-tallet i {hytte_nr:2} betyr at vi ønsker å\n",
    "    # bruke 2 tegn på å skrive ut hyttenummeret. Dette gjør at tallene\n",
    "    # 1 til 9 tar like stor plass på skjermen som 10-18, og at kolonnene\n",
    "    # dermed blir rette nedover. \n",
    "    # Prøv gjerne å bytte ut printen over med den på neste linje og sjekk\n",
    "    # forskjellen print(f\"{hytte_nr} {df['avstand_m'][hytte_nr]}\")"
   ]
  },
  {
   "cell_type": "markdown",
   "id": "abroad-filename",
   "metadata": {},
   "source": []
  },
  {
   "cell_type": "code",
   "execution_count": 92,
   "id": "rental-action",
   "metadata": {
    "tags": []
   },
   "outputs": [
    {
     "name": "stdout",
     "output_type": "stream",
     "text": [
      "7\n",
      "[12, 13, 14, 15, 16, 17, 18]\n"
     ]
    }
   ],
   "source": [
    "###################################################\n",
    "#                  LØSNINGSFORSLAG                #\n",
    "###################################################\n",
    "\n",
    "liste_med_hytte_nr_over_2500m = []\n",
    "antall_hytter_over_2500m_til_vei = 0\n",
    "for hytte_nr in df.index:\n",
    "    if df[\"avstand_m\"][hytte_nr] > 2500:\n",
    "        antall_hytter_over_2500m_til_vei += 1\n",
    "        liste_med_hytte_nr_over_2500m.append(hytte_nr)\n",
    "print(antall_hytter_med_over_2500_m_til_vei)\n",
    "print(liste_med_hytte_nr_over_2500m)"
   ]
  },
  {
   "cell_type": "markdown",
   "id": "extreme-grammar",
   "metadata": {},
   "source": [
    "## Utvidelse med ekte data\n",
    "\n",
    "Tjenester fra geonorge:\n",
    "* [Toporaster 4 bakgrunnskart](https://kartkatalog.geonorge.no/metadata/toporaster-4-wms/430b65ec-8543-4387-bf45-dbb5ce4bf4c8). Legg dette til under WMS i QGIS. Naviger deg fram til et passende grunnlagskart med referanse.\n",
    "* [Elveg](https://kartkatalog.geonorge.no/metadata/elveg/ed1e6798-b3cf-48be-aee1-c0d3531da01a). Last ned SOSI-fil og konverter til shapefile med [`sosicon`](https://sosicon.espenandersen.no/). Dra inn i QGIS.\n",
    "* [Matrikkelen bygningspunkt](https://kartkatalog.geonorge.no/metadata/matrikkelen-bygningspunkt/24d7e9d1-87f6-45a0-b38e-3447f8d7f9a1). Last ned som GML og dra inn i QGIS.\n",
    "\n",
    "I QGIS omdøpte jeg matrikkel til bygning og Elveg til veg. Deretter la jeg til et nytt virtuelt lag med spørringen\n",
    "\n",
    "```sql\n",
    "SELECT ST_ShortestLine(r.geometry, p.geometry),\n",
    "        p.gml_id AS pid,\n",
    "        r.DATAFANGST AS rid,\n",
    "        ROUND(ST_Length(ST_ShortestLine(r.geometry, p.geometry)), 6) AS distance\n",
    "FROM bygning AS p, veg AS r\n",
    "WHERE distance > 0.5\n",
    "GROUP BY p.gml_id\n",
    "ORDER BY MIN(distance)\n",
    "```\n",
    "\n",
    "Some hours later...\n",
    "\n",
    "Svakheter: jeg lastet kun ned data fra Målselv. Det er godt mulig at nærmeste vei ikke ligger i Målselv, men i en nabokommune. "
   ]
  },
  {
   "cell_type": "code",
   "execution_count": null,
   "id": "medical-evidence",
   "metadata": {},
   "outputs": [],
   "source": []
  }
 ],
 "metadata": {
  "kernelspec": {
   "display_name": "Python 3",
   "language": "python",
   "name": "python3"
  },
  "language_info": {
   "codemirror_mode": {
    "name": "ipython",
    "version": 3
   },
   "file_extension": ".py",
   "mimetype": "text/x-python",
   "name": "python",
   "nbconvert_exporter": "python",
   "pygments_lexer": "ipython3",
   "version": "3.8.5"
  }
 },
 "nbformat": 4,
 "nbformat_minor": 5
}
